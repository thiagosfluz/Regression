{
  "nbformat": 4,
  "nbformat_minor": 0,
  "metadata": {
    "colab": {
      "private_outputs": true,
      "provenance": [],
      "authorship_tag": "ABX9TyPyMnntxcOXDssOM6sN5asu",
      "include_colab_link": true
    },
    "kernelspec": {
      "name": "python3",
      "display_name": "Python 3"
    },
    "language_info": {
      "name": "python"
    }
  },
  "cells": [
    {
      "cell_type": "markdown",
      "metadata": {
        "id": "view-in-github",
        "colab_type": "text"
      },
      "source": [
        "<a href=\"https://colab.research.google.com/github/thiagosfluz/Regression/blob/main/CRISP_Regression.ipynb\" target=\"_parent\"><img src=\"https://colab.research.google.com/assets/colab-badge.svg\" alt=\"Open In Colab\"/></a>"
      ]
    },
    {
      "cell_type": "code",
      "execution_count": null,
      "metadata": {
        "id": "eCZQAvCcw-DB"
      },
      "outputs": [],
      "source": [
        "import pandas as pd\n",
        "from sklearn.model_selection import train_test_split, GridSearchCV\n",
        "from sklearn.linear_model import LinearRegression\n",
        "from sklearn.metrics import mean_squared_error\n",
        "from sklearn.svm import SVR\n",
        "from xgboost import XGBRegressor\n",
        "import numpy as np\n"
      ]
    },
    {
      "cell_type": "code",
      "source": [
        "import pandas as pd\n",
        "import numpy as np\n",
        "\n",
        "data_url = \"http://lib.stat.cmu.edu/datasets/boston\"\n",
        "raw_df = pd.read_csv(data_url, sep=\"\\s+\", skiprows=22, header=None)\n",
        "data = np.hstack([raw_df.values[::2, :], raw_df.values[1::2, :2]])\n",
        "target = raw_df.values[1::2, 2]"
      ],
      "metadata": {
        "id": "UneFq-evzGdT"
      },
      "execution_count": null,
      "outputs": []
    },
    {
      "cell_type": "code",
      "source": [
        "X = data\n",
        "y = target"
      ],
      "metadata": {
        "id": "GCrTFEtr5n5E"
      },
      "execution_count": null,
      "outputs": []
    },
    {
      "cell_type": "markdown",
      "source": [
        "Modeling Techniques\n",
        "\n",
        "1. Regressão linear do SKLEARN\n",
        "2. Support Vector Regression do SKLEARN\n",
        "3. Decision Tree Regression do XGBOOST\n",
        "\n",
        "Modeling Assumption\n",
        "\n",
        "Apenas variáveis numéricas\n"
      ],
      "metadata": {
        "id": "mi30WwEq7b6H"
      }
    },
    {
      "cell_type": "markdown",
      "source": [
        "#test design\n",
        "#Dataset Split\n",
        "\n",
        "Separação de train/Text dataset padrão com 20% de massa para teste via método SKLEARN\n",
        "\n",
        "##Métrica de avaliação do modelo\n",
        "\n",
        "Validação da métrica MSE e RMSE para penalizar grandes erros de previsão.\n",
        "Utilizando métodos do Sklearn.\n"
      ],
      "metadata": {
        "id": "lZtgdmrg8MOL"
      }
    },
    {
      "cell_type": "code",
      "source": [
        "X_train, X_test, y_train, y_test = train_test_split(X,y, test_size = 0.2, random_state= 42)"
      ],
      "metadata": {
        "id": "HEBix5pG78xN"
      },
      "execution_count": null,
      "outputs": []
    },
    {
      "cell_type": "code",
      "source": [
        "print(y_train)"
      ],
      "metadata": {
        "id": "-jpQHZCi9Z9N"
      },
      "execution_count": null,
      "outputs": []
    },
    {
      "cell_type": "markdown",
      "source": [
        "tECNICA 1 - Regressão Linear"
      ],
      "metadata": {
        "id": "OdGcOMOYAsY0"
      }
    },
    {
      "cell_type": "code",
      "source": [
        "reglinear = LinearRegression().fit(X_train,y_train)"
      ],
      "metadata": {
        "id": "SCyAMCh99iOJ"
      },
      "execution_count": null,
      "outputs": []
    },
    {
      "cell_type": "code",
      "source": [
        "yLinear = reglinear.predict(X_test)"
      ],
      "metadata": {
        "id": "e50sx4SC-Isu"
      },
      "execution_count": null,
      "outputs": []
    },
    {
      "cell_type": "code",
      "source": [
        "print(yLinear)"
      ],
      "metadata": {
        "id": "unx1s3kl_2gf"
      },
      "execution_count": null,
      "outputs": []
    },
    {
      "cell_type": "code",
      "source": [
        "MSELinear= mean_squared_error(y_test,yLinear)"
      ],
      "metadata": {
        "id": "oXkyQq26_5VZ"
      },
      "execution_count": null,
      "outputs": []
    },
    {
      "cell_type": "markdown",
      "source": [],
      "metadata": {
        "id": "OOfvX7HfAqls"
      }
    },
    {
      "cell_type": "markdown",
      "source": [
        "Técnica 2 - SVR"
      ],
      "metadata": {
        "id": "g_AqnGoXA9nr"
      }
    },
    {
      "cell_type": "code",
      "source": [
        "regSVR = SVR().fit(X_train, y_train)"
      ],
      "metadata": {
        "id": "hFVcQVSSBCco"
      },
      "execution_count": null,
      "outputs": []
    },
    {
      "cell_type": "code",
      "source": [
        "ySVR = regSVR.predict(X_test)"
      ],
      "metadata": {
        "id": "PWv2oU8ZBdOD"
      },
      "execution_count": null,
      "outputs": []
    },
    {
      "cell_type": "code",
      "source": [
        "MSESVR = mean_squared_error(y_test, ySVR)\n",
        "print('RMSE SVR:',np.sqrt(MSESVR))"
      ],
      "metadata": {
        "id": "JTXA0jAFBo_d"
      },
      "execution_count": null,
      "outputs": []
    },
    {
      "cell_type": "markdown",
      "source": [
        "Tecnica 3. Decision Tree Regression (XGBOOST)"
      ],
      "metadata": {
        "id": "mAhzymxKCLhl"
      }
    },
    {
      "cell_type": "code",
      "source": [
        "regXGB = XGBRegressor().fit(X_train, y_train)"
      ],
      "metadata": {
        "id": "3EObjpr_CQSC"
      },
      "execution_count": null,
      "outputs": []
    },
    {
      "cell_type": "code",
      "source": [
        "yXGB = regXGB.predict(X_test)"
      ],
      "metadata": {
        "id": "veZqrC5rCrFr"
      },
      "execution_count": null,
      "outputs": []
    },
    {
      "cell_type": "code",
      "source": [
        "MSEXGB = mean_squared_error(y_test, yXGB)"
      ],
      "metadata": {
        "id": "IigJ1uFyCy_7"
      },
      "execution_count": null,
      "outputs": []
    },
    {
      "cell_type": "code",
      "source": [
        "print('MSE XGB', MSEXGB)"
      ],
      "metadata": {
        "id": "vBH70OXXC6X5"
      },
      "execution_count": null,
      "outputs": []
    },
    {
      "cell_type": "code",
      "source": [
        "print('RMSE XGB', np.sqrt(MSEXGB))"
      ],
      "metadata": {
        "id": "Ikj2w4lNDC8z"
      },
      "execution_count": null,
      "outputs": []
    },
    {
      "cell_type": "markdown",
      "source": [
        "Otimização de Hiperparâmetro\n",
        "Utilizando Grid Search"
      ],
      "metadata": {
        "id": "PmdECOl3qjfi"
      }
    },
    {
      "cell_type": "code",
      "source": [
        "regXGB.get_params().keys()"
      ],
      "metadata": {
        "id": "T6og0Pbjqna8"
      },
      "execution_count": null,
      "outputs": []
    },
    {
      "cell_type": "code",
      "source": [
        "parameters = {\n",
        "    \"max_depth\": [5,6,7],\n",
        "    \"learning_rate\": [0.1, 0.2, 0.3],\n",
        "    \"objective\": ['reg:squarederror'],\n",
        "    \"booster\": ['gbtree'],\n",
        "    \"n_jobs\": [5],\n",
        "    \"gamma\": [0, 1],\n",
        "    \"min_child_weight\": [1,3],\n",
        "    \"max_delta_step\": [0,1],\n",
        "    \"subsample\": [0.5, 1]\n",
        "    }"
      ],
      "metadata": {
        "id": "ScaOv5b7rIOk"
      },
      "execution_count": null,
      "outputs": []
    },
    {
      "cell_type": "code",
      "source": [
        "xgbGrid = GridSearchCV(XGBRegressor(), parameters, refit= 'neg_mean_squared_error', verbose = True)"
      ],
      "metadata": {
        "id": "N5haUeBzsqIX"
      },
      "execution_count": null,
      "outputs": []
    },
    {
      "cell_type": "code",
      "source": [
        "xgbGridModel = xgbGrid.fit(X_train, y_train)"
      ],
      "metadata": {
        "id": "jFqmwzBItKxb"
      },
      "execution_count": null,
      "outputs": []
    },
    {
      "cell_type": "code",
      "source": [
        "xgbGridModel.best_params_"
      ],
      "metadata": {
        "id": "YsxS4Jf-ubdH"
      },
      "execution_count": null,
      "outputs": []
    },
    {
      "cell_type": "code",
      "source": [
        "yGrid = xgbGridModel.predict(X_test)"
      ],
      "metadata": {
        "id": "cjjw7nlduh8-"
      },
      "execution_count": null,
      "outputs": []
    },
    {
      "cell_type": "code",
      "source": [
        "MSEGrid = mean_squared_error(y_test,yGrid)"
      ],
      "metadata": {
        "id": "rbKeHuzBuuUU"
      },
      "execution_count": null,
      "outputs": []
    },
    {
      "cell_type": "code",
      "source": [
        "print('MSE XGB Grid: ', MSEGrid)\n",
        "print('RMSE XGB Grid: ', np.sqrt(MSEGrid))"
      ],
      "metadata": {
        "id": "QwmHXWuIu4X_"
      },
      "execution_count": null,
      "outputs": []
    }
  ]
}