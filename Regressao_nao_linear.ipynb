{
  "nbformat": 4,
  "nbformat_minor": 0,
  "metadata": {
    "colab": {
      "private_outputs": true,
      "provenance": [],
      "mount_file_id": "12FFJiVeY_NgWJ0Q_PkIh7wRjHM4VNvlC",
      "authorship_tag": "ABX9TyN2WH1rsGuSjoLRdAL0z2yK",
      "include_colab_link": true
    },
    "kernelspec": {
      "name": "python3",
      "display_name": "Python 3"
    },
    "language_info": {
      "name": "python"
    }
  },
  "cells": [
    {
      "cell_type": "markdown",
      "metadata": {
        "id": "view-in-github",
        "colab_type": "text"
      },
      "source": [
        "<a href=\"https://colab.research.google.com/github/thiagosfluz/Regression/blob/main/Regressao_nao_linear.ipynb\" target=\"_parent\"><img src=\"https://colab.research.google.com/assets/colab-badge.svg\" alt=\"Open In Colab\"/></a>"
      ]
    },
    {
      "cell_type": "code",
      "execution_count": null,
      "metadata": {
        "id": "6gFIAg_xDAE4"
      },
      "outputs": [],
      "source": [
        "import pandas as pd\n",
        "import numpy as np"
      ]
    },
    {
      "cell_type": "code",
      "source": [
        "tempo = pd.read_excel('/content/drive/MyDrive/DNC Formação em Dados/Materia 6/temps.xlsx')"
      ],
      "metadata": {
        "id": "slpVbg6bDf_N"
      },
      "execution_count": null,
      "outputs": []
    },
    {
      "cell_type": "code",
      "source": [
        "tempo.head()"
      ],
      "metadata": {
        "id": "b9n0nYFxDp_t"
      },
      "execution_count": null,
      "outputs": []
    },
    {
      "cell_type": "code",
      "source": [
        "tempo.describe()"
      ],
      "metadata": {
        "id": "k7_FYrVDDtoa"
      },
      "execution_count": null,
      "outputs": []
    },
    {
      "cell_type": "code",
      "source": [
        "tempo.info()"
      ],
      "metadata": {
        "id": "yDE4VdGcDy9L"
      },
      "execution_count": null,
      "outputs": []
    },
    {
      "cell_type": "code",
      "source": [
        "tempo =pd.get_dummies(tempo)\n",
        "tempo.head()"
      ],
      "metadata": {
        "id": "GGxNeSVED2sY"
      },
      "execution_count": null,
      "outputs": []
    },
    {
      "cell_type": "code",
      "source": [
        "labels = np.array(tempo['actual'])\n",
        "\n",
        "features = tempo.drop('actual', axis = 1)\n",
        "\n",
        "features_list = list(features.columns)\n",
        "\n",
        "features = np.array(features)"
      ],
      "metadata": {
        "id": "EJVgFM7KEX1z"
      },
      "execution_count": null,
      "outputs": []
    },
    {
      "cell_type": "code",
      "source": [
        "from sklearn.model_selection import train_test_split\n",
        "\n",
        "train_features, test_features, train_labels, test_labels = train_test_split(features, labels, test_size = 0.25, random_state = 42)"
      ],
      "metadata": {
        "id": "I88fXmskEpwW"
      },
      "execution_count": null,
      "outputs": []
    },
    {
      "cell_type": "code",
      "source": [
        "baseline_preds = test_features[:, features_list.index('average')]\n",
        "baseline_error = abs(baseline_preds - test_labels).mean()\n",
        "print(\"Baseline error average:\", round(np.mean(baseline_error),2))"
      ],
      "metadata": {
        "id": "PRqLioxhFDUN"
      },
      "execution_count": null,
      "outputs": []
    },
    {
      "cell_type": "code",
      "source": [
        "from sklearn.datasets import make_moons\n",
        "from sklearn import metrics\n",
        "from sklearn.tree import DecisionTreeRegressor\n",
        "from sklearn.ensemble import RandomForestRegressor, AdaBoostRegressor, GradientBoostingRegressor\n"
      ],
      "metadata": {
        "id": "_AePHQBtGF6s"
      },
      "execution_count": null,
      "outputs": []
    },
    {
      "cell_type": "code",
      "source": [
        "rf = RandomForestRegressor(n_estimators = 1000, random_state = 42)\n",
        "rf.fit(train_features, train_labels)"
      ],
      "metadata": {
        "id": "NuMaWXGGGbRA"
      },
      "execution_count": null,
      "outputs": []
    },
    {
      "cell_type": "code",
      "source": [
        "prediction_rf = rf.predict(test_features)\n",
        "\n",
        "error_rf = abs(prediction_rf - test_labels)\n",
        "\n",
        "r_sq = rf.score(features, labels)\n",
        "\n",
        "print(\"R^2:\", r_sq)\n",
        "print('MAE', metrics.mean_absolute_error(test_labels, prediction_rf))\n",
        "print('MSE', metrics.mean_squared_error(test_labels, prediction_rf))\n",
        "print('RMSE', np.sqrt(metrics.mean_squared_error(test_labels, prediction_rf)))\n"
      ],
      "metadata": {
        "id": "T_68DU3PGm9D"
      },
      "execution_count": null,
      "outputs": []
    },
    {
      "cell_type": "code",
      "source": [
        "ada = AdaBoostRegressor(n_estimators = 100, random_state = 42)\n",
        "ada.fit(train_features, train_labels)\n",
        "\n",
        "ada_pred = ada.predict(test_features)\n"
      ],
      "metadata": {
        "id": "ME0PIKrrHcRj"
      },
      "execution_count": null,
      "outputs": []
    },
    {
      "cell_type": "code",
      "source": [
        "error_ada = abs(ada_pred - test_labels)\n",
        "\n",
        "r_sq = ada.score(features, labels)\n",
        "\n",
        "print(\"R^2:\", r_sq)\n",
        "print('MAE', metrics.mean_absolute_error(test_labels, ada_pred))\n",
        "print('MSE', metrics.mean_squared_error(test_labels, ada_pred))\n"
      ],
      "metadata": {
        "id": "OXXT0Uh8HpFj"
      },
      "execution_count": null,
      "outputs": []
    },
    {
      "cell_type": "code",
      "source": [
        "gbr = GradientBoostingRegressor(n_estimators = 100)\n",
        "gbr.fit(train_features, train_labels)\n",
        "\n",
        "gbr_pred = gbr.predict(test_features)"
      ],
      "metadata": {
        "id": "gzgvV1CAIKPy"
      },
      "execution_count": null,
      "outputs": []
    },
    {
      "cell_type": "code",
      "source": [
        "error_gbr = abs(gbr_pred - test_labels)\n",
        "\n",
        "r_sq = gbr.score(features, labels)\n",
        "\n",
        "print(\"R^2:\", r_sq)\n",
        "print('MAE', metrics.mean_absolute_error(test_labels, gbr_pred))\n",
        "print('MSE', metrics.mean_squared_error(test_labels, gbr_pred))"
      ],
      "metadata": {
        "id": "wdSoUAs0IRGR"
      },
      "execution_count": null,
      "outputs": []
    },
    {
      "cell_type": "code",
      "source": [
        "rf = RandomForestRegressor(max_depth = 3)\n",
        "rf.fit(train_features, train_labels)\n",
        "\n",
        "tree = rf.estimators_[5]\n",
        "\n",
        "tree\n",
        "\n",
        "\n",
        "from sklearn.tree import export_graphviz\n",
        "import pydot\n",
        "export_graphviz(tree, out_file = 'tree.dot', feature_names = features_list, rounded = True, precision = 1)\n",
        "(graph,) = pydot.graph_from_dot_file('tree.dot')\n",
        "graph.write_png('tree.png')\n",
        "\n",
        "\n"
      ],
      "metadata": {
        "id": "0Y4QfeDPIXH5"
      },
      "execution_count": null,
      "outputs": []
    },
    {
      "cell_type": "code",
      "source": [
        "importance = list(rf.feature_importances_)\n",
        "\n",
        "feature_importance = [(features, round(importance, 2)) for features, importance in zip(features_list, importance)]\n",
        "\n",
        "feature_importance = sorted(feature_importance, key = lambda x: x[1], reverse = True)\n",
        "\n",
        "[print(\"Feature: {:20} Importance {}\".format(*pair)) for pair in feature_importance];"
      ],
      "metadata": {
        "id": "Q0lFvQ4SJLCg"
      },
      "execution_count": null,
      "outputs": []
    },
    {
      "cell_type": "code",
      "source": [
        "importance = list(ada.feature_importances_)\n",
        "\n",
        "feature_importance = [(features, round(importance, 2)) for features, importance in zip(features_list, importance)]\n",
        "\n",
        "feature_importance = sorted(feature_importance, key = lambda x: x[1], reverse = True)\n",
        "\n",
        "[print(\"Feature: {:20} Importance {}\".format(*pair)) for pair in feature_importance];"
      ],
      "metadata": {
        "id": "xsv6STB_KjAf"
      },
      "execution_count": null,
      "outputs": []
    },
    {
      "cell_type": "code",
      "source": [
        "importance = list(gbr.feature_importances_)\n",
        "\n",
        "feature_importance = [(features, round(importance, 2)) for features, importance in zip(features_list, importance)]\n",
        "\n",
        "feature_importance = sorted(feature_importance, key = lambda x: x[1], reverse = True)\n",
        "\n",
        "[print(\"Feature: {:20} Importance {}\".format(*pair)) for pair in feature_importance];"
      ],
      "metadata": {
        "id": "CGnbeCrUKlSV"
      },
      "execution_count": null,
      "outputs": []
    }
  ]
}